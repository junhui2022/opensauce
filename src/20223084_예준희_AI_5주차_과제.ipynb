{
 "cells": [
  {
   "cell_type": "code",
   "execution_count": 1,
   "id": "c948b4d5",
   "metadata": {},
   "outputs": [
    {
     "ename": "ModuleNotFoundError",
     "evalue": "No module named 'pandas'",
     "output_type": "error",
     "traceback": [
      "\u001b[1;31m---------------------------------------------------------------------------\u001b[0m",
      "\u001b[1;31mModuleNotFoundError\u001b[0m                       Traceback (most recent call last)",
      "Cell \u001b[1;32mIn [1], line 1\u001b[0m\n\u001b[1;32m----> 1\u001b[0m \u001b[38;5;28;01mimport\u001b[39;00m \u001b[38;5;21;01mpandas\u001b[39;00m \u001b[38;5;28;01mas\u001b[39;00m \u001b[38;5;21;01mpd\u001b[39;00m\n",
      "\u001b[1;31mModuleNotFoundError\u001b[0m: No module named 'pandas'"
     ]
    }
   ],
   "source": [
    "import pandas as pd"
   ]
  },
  {
   "cell_type": "code",
   "execution_count": null,
   "id": "b285640a",
   "metadata": {
    "scrolled": false
   },
   "outputs": [],
   "source": [
    "birthData = pd.read_excel('C:/my_data/data_연도별출생인구.xlsx')"
   ]
  },
  {
   "cell_type": "code",
   "execution_count": null,
   "id": "1115a401",
   "metadata": {},
   "outputs": [
    {
     "data": {
      "text/html": [
       "<div>\n",
       "<style scoped>\n",
       "    .dataframe tbody tr th:only-of-type {\n",
       "        vertical-align: middle;\n",
       "    }\n",
       "\n",
       "    .dataframe tbody tr th {\n",
       "        vertical-align: top;\n",
       "    }\n",
       "\n",
       "    .dataframe thead th {\n",
       "        text-align: right;\n",
       "    }\n",
       "</style>\n",
       "<table border=\"1\" class=\"dataframe\">\n",
       "  <thead>\n",
       "    <tr style=\"text-align: right;\">\n",
       "      <th></th>\n",
       "      <th>연도</th>\n",
       "      <th>출생아수</th>\n",
       "      <th>천명당출생률</th>\n",
       "    </tr>\n",
       "  </thead>\n",
       "  <tbody>\n",
       "    <tr>\n",
       "      <th>0</th>\n",
       "      <td>1951</td>\n",
       "      <td>728175</td>\n",
       "      <td>37.7</td>\n",
       "    </tr>\n",
       "    <tr>\n",
       "      <th>1</th>\n",
       "      <td>1952</td>\n",
       "      <td>775630</td>\n",
       "      <td>39.6</td>\n",
       "    </tr>\n",
       "    <tr>\n",
       "      <th>2</th>\n",
       "      <td>1953</td>\n",
       "      <td>830330</td>\n",
       "      <td>41.6</td>\n",
       "    </tr>\n",
       "    <tr>\n",
       "      <th>3</th>\n",
       "      <td>1954</td>\n",
       "      <td>892236</td>\n",
       "      <td>43.4</td>\n",
       "    </tr>\n",
       "    <tr>\n",
       "      <th>4</th>\n",
       "      <td>1955</td>\n",
       "      <td>961055</td>\n",
       "      <td>45.4</td>\n",
       "    </tr>\n",
       "    <tr>\n",
       "      <th>...</th>\n",
       "      <td>...</td>\n",
       "      <td>...</td>\n",
       "      <td>...</td>\n",
       "    </tr>\n",
       "    <tr>\n",
       "      <th>63</th>\n",
       "      <td>2014</td>\n",
       "      <td>435435</td>\n",
       "      <td>8.6</td>\n",
       "    </tr>\n",
       "    <tr>\n",
       "      <th>64</th>\n",
       "      <td>2015</td>\n",
       "      <td>438420</td>\n",
       "      <td>8.6</td>\n",
       "    </tr>\n",
       "    <tr>\n",
       "      <th>65</th>\n",
       "      <td>2016</td>\n",
       "      <td>406243</td>\n",
       "      <td>7.9</td>\n",
       "    </tr>\n",
       "    <tr>\n",
       "      <th>66</th>\n",
       "      <td>2017</td>\n",
       "      <td>357771</td>\n",
       "      <td>7.0</td>\n",
       "    </tr>\n",
       "    <tr>\n",
       "      <th>67</th>\n",
       "      <td>2018</td>\n",
       "      <td>326900</td>\n",
       "      <td>6.4</td>\n",
       "    </tr>\n",
       "  </tbody>\n",
       "</table>\n",
       "<p>68 rows × 3 columns</p>\n",
       "</div>"
      ],
      "text/plain": [
       "      연도    출생아수  천명당출생률\n",
       "0   1951  728175    37.7\n",
       "1   1952  775630    39.6\n",
       "2   1953  830330    41.6\n",
       "3   1954  892236    43.4\n",
       "4   1955  961055    45.4\n",
       "..   ...     ...     ...\n",
       "63  2014  435435     8.6\n",
       "64  2015  438420     8.6\n",
       "65  2016  406243     7.9\n",
       "66  2017  357771     7.0\n",
       "67  2018  326900     6.4\n",
       "\n",
       "[68 rows x 3 columns]"
      ]
     },
     "execution_count": 3,
     "metadata": {},
     "output_type": "execute_result"
    }
   ],
   "source": [
    "birthData"
   ]
  },
  {
   "cell_type": "code",
   "execution_count": null,
   "id": "9e4c3e33",
   "metadata": {},
   "outputs": [
    {
     "data": {
      "text/html": [
       "<div>\n",
       "<style scoped>\n",
       "    .dataframe tbody tr th:only-of-type {\n",
       "        vertical-align: middle;\n",
       "    }\n",
       "\n",
       "    .dataframe tbody tr th {\n",
       "        vertical-align: top;\n",
       "    }\n",
       "\n",
       "    .dataframe thead th {\n",
       "        text-align: right;\n",
       "    }\n",
       "</style>\n",
       "<table border=\"1\" class=\"dataframe\">\n",
       "  <thead>\n",
       "    <tr style=\"text-align: right;\">\n",
       "      <th></th>\n",
       "      <th>연도</th>\n",
       "      <th>출생아수</th>\n",
       "      <th>천명당출생률</th>\n",
       "    </tr>\n",
       "  </thead>\n",
       "  <tbody>\n",
       "    <tr>\n",
       "      <th>65</th>\n",
       "      <td>2016</td>\n",
       "      <td>406243</td>\n",
       "      <td>7.9</td>\n",
       "    </tr>\n",
       "    <tr>\n",
       "      <th>66</th>\n",
       "      <td>2017</td>\n",
       "      <td>357771</td>\n",
       "      <td>7.0</td>\n",
       "    </tr>\n",
       "    <tr>\n",
       "      <th>67</th>\n",
       "      <td>2018</td>\n",
       "      <td>326900</td>\n",
       "      <td>6.4</td>\n",
       "    </tr>\n",
       "  </tbody>\n",
       "</table>\n",
       "</div>"
      ],
      "text/plain": [
       "      연도    출생아수  천명당출생률\n",
       "65  2016  406243     7.9\n",
       "66  2017  357771     7.0\n",
       "67  2018  326900     6.4"
      ]
     },
     "execution_count": 4,
     "metadata": {},
     "output_type": "execute_result"
    }
   ],
   "source": [
    "birthData[65:]"
   ]
  },
  {
   "cell_type": "code",
   "execution_count": null,
   "id": "6d3c8f7e",
   "metadata": {},
   "outputs": [
    {
     "data": {
      "text/html": [
       "<div>\n",
       "<style scoped>\n",
       "    .dataframe tbody tr th:only-of-type {\n",
       "        vertical-align: middle;\n",
       "    }\n",
       "\n",
       "    .dataframe tbody tr th {\n",
       "        vertical-align: top;\n",
       "    }\n",
       "\n",
       "    .dataframe thead th {\n",
       "        text-align: right;\n",
       "    }\n",
       "</style>\n",
       "<table border=\"1\" class=\"dataframe\">\n",
       "  <thead>\n",
       "    <tr style=\"text-align: right;\">\n",
       "      <th></th>\n",
       "      <th>연도</th>\n",
       "      <th>출생아수</th>\n",
       "      <th>천명당출생률</th>\n",
       "    </tr>\n",
       "  </thead>\n",
       "  <tbody>\n",
       "    <tr>\n",
       "      <th>0</th>\n",
       "      <td>1951</td>\n",
       "      <td>728175</td>\n",
       "      <td>37.7</td>\n",
       "    </tr>\n",
       "    <tr>\n",
       "      <th>1</th>\n",
       "      <td>1952</td>\n",
       "      <td>775630</td>\n",
       "      <td>39.6</td>\n",
       "    </tr>\n",
       "    <tr>\n",
       "      <th>2</th>\n",
       "      <td>1953</td>\n",
       "      <td>830330</td>\n",
       "      <td>41.6</td>\n",
       "    </tr>\n",
       "  </tbody>\n",
       "</table>\n",
       "</div>"
      ],
      "text/plain": [
       "     연도    출생아수  천명당출생률\n",
       "0  1951  728175    37.7\n",
       "1  1952  775630    39.6\n",
       "2  1953  830330    41.6"
      ]
     },
     "execution_count": 5,
     "metadata": {},
     "output_type": "execute_result"
    }
   ],
   "source": [
    "birthData[0:3]"
   ]
  },
  {
   "cell_type": "code",
   "execution_count": null,
   "id": "37b3400f",
   "metadata": {},
   "outputs": [
    {
     "data": {
      "text/plain": [
       "0    1951\n",
       "1    1952\n",
       "2    1953\n",
       "3    1954\n",
       "4    1955\n",
       "Name: 연도, dtype: int64"
      ]
     },
     "execution_count": 6,
     "metadata": {},
     "output_type": "execute_result"
    }
   ],
   "source": [
    "birthData.연도[0:5]"
   ]
  },
  {
   "cell_type": "code",
   "execution_count": null,
   "id": "a4303ef0",
   "metadata": {},
   "outputs": [],
   "source": [
    "data1950 = birthData[0:9]"
   ]
  },
  {
   "cell_type": "code",
   "execution_count": null,
   "id": "eedee8e6",
   "metadata": {},
   "outputs": [
    {
     "data": {
      "image/png": "[encoded data removed]",
      "text/plain": [
       "<Figure size 432x288 with 1 Axes>"
      ]
     },
     "metadata": {
      "needs_background": "light"
     },
     "output_type": "display_data"
    }
   ],
   "source": [
    "import matplotlib.pyplot as plt\n",
    "\n",
    "plt.plot(data1950['출생아수'], marker='o', markersize =7)\n",
    "plt.grid()\n",
    "plt.ylim(600_000, 1_200_000)\n",
    "plt.show()"
   ]
  },
  {
   "cell_type": "code",
   "execution_count": null,
   "id": "7bbfd841",
   "metadata": {},
   "outputs": [
    {
     "data": {
      "text/plain": [
       "<function matplotlib.pyplot.show(close=None, block=None)>"
      ]
     },
     "execution_count": 10,
     "metadata": {},
     "output_type": "execute_result"
    },
    {
     "data": {
      "image/png": "[encoded data removed]",
      "text/plain": [
       "<Figure size 432x288 with 1 Axes>"
      ]
     },
     "metadata": {
      "needs_background": "light"
     },
     "output_type": "display_data"
    }
   ],
   "source": [
    "data = birthData[29:50].출생아수\n",
    "\n",
    "plt.plot(data, marker='o', markersize=7)\n",
    "plt.grid()\n",
    "plt.show"
   ]
  },
  {
   "cell_type": "code",
   "execution_count": null,
   "id": "cca442c3",
   "metadata": {},
   "outputs": [],
   "source": [
    "data2 = birthData.출생아수[0:5]"
   ]
  },
  {
   "cell_type": "code",
   "execution_count": null,
   "id": "353aad92",
   "metadata": {},
   "outputs": [
    {
     "data": {
      "text/plain": [
       "0    728175\n",
       "1    775630\n",
       "2    830330\n",
       "3    892236\n",
       "4    961055\n",
       "Name: 출생아수, dtype: int64"
      ]
     },
     "execution_count": 12,
     "metadata": {},
     "output_type": "execute_result"
    }
   ],
   "source": [
    "data2"
   ]
  },
  {
   "cell_type": "code",
   "execution_count": null,
   "id": "23eb90a0",
   "metadata": {},
   "outputs": [],
   "source": [
    "data3 = birthData[['연도', '출생아수']][10:15]"
   ]
  },
  {
   "cell_type": "code",
   "execution_count": null,
   "id": "e72c4e79",
   "metadata": {},
   "outputs": [
    {
     "data": {
      "text/html": [
       "<div>\n",
       "<style scoped>\n",
       "    .dataframe tbody tr th:only-of-type {\n",
       "        vertical-align: middle;\n",
       "    }\n",
       "\n",
       "    .dataframe tbody tr th {\n",
       "        vertical-align: top;\n",
       "    }\n",
       "\n",
       "    .dataframe thead th {\n",
       "        text-align: right;\n",
       "    }\n",
       "</style>\n",
       "<table border=\"1\" class=\"dataframe\">\n",
       "  <thead>\n",
       "    <tr style=\"text-align: right;\">\n",
       "      <th></th>\n",
       "      <th>연도</th>\n",
       "      <th>출생아수</th>\n",
       "    </tr>\n",
       "  </thead>\n",
       "  <tbody>\n",
       "    <tr>\n",
       "      <th>10</th>\n",
       "      <td>1961</td>\n",
       "      <td>1099164</td>\n",
       "    </tr>\n",
       "    <tr>\n",
       "      <th>11</th>\n",
       "      <td>1962</td>\n",
       "      <td>1089951</td>\n",
       "    </tr>\n",
       "    <tr>\n",
       "      <th>12</th>\n",
       "      <td>1963</td>\n",
       "      <td>1075203</td>\n",
       "    </tr>\n",
       "    <tr>\n",
       "      <th>13</th>\n",
       "      <td>1964</td>\n",
       "      <td>1057241</td>\n",
       "    </tr>\n",
       "    <tr>\n",
       "      <th>14</th>\n",
       "      <td>1965</td>\n",
       "      <td>1040544</td>\n",
       "    </tr>\n",
       "  </tbody>\n",
       "</table>\n",
       "</div>"
      ],
      "text/plain": [
       "      연도     출생아수\n",
       "10  1961  1099164\n",
       "11  1962  1089951\n",
       "12  1963  1075203\n",
       "13  1964  1057241\n",
       "14  1965  1040544"
      ]
     },
     "execution_count": 14,
     "metadata": {},
     "output_type": "execute_result"
    }
   ],
   "source": [
    "data3"
   ]
  },
  {
   "cell_type": "code",
   "execution_count": null,
   "id": "f699534c",
   "metadata": {},
   "outputs": [
    {
     "data": {
      "text/html": [
       "<div>\n",
       "<style scoped>\n",
       "    .dataframe tbody tr th:only-of-type {\n",
       "        vertical-align: middle;\n",
       "    }\n",
       "\n",
       "    .dataframe tbody tr th {\n",
       "        vertical-align: top;\n",
       "    }\n",
       "\n",
       "    .dataframe thead th {\n",
       "        text-align: right;\n",
       "    }\n",
       "</style>\n",
       "<table border=\"1\" class=\"dataframe\">\n",
       "  <thead>\n",
       "    <tr style=\"text-align: right;\">\n",
       "      <th></th>\n",
       "      <th>연도</th>\n",
       "      <th>출생아수</th>\n",
       "      <th>천명당출생률</th>\n",
       "    </tr>\n",
       "  </thead>\n",
       "  <tbody>\n",
       "    <tr>\n",
       "      <th>39</th>\n",
       "      <td>1990</td>\n",
       "      <td>649738</td>\n",
       "      <td>15.2</td>\n",
       "    </tr>\n",
       "    <tr>\n",
       "      <th>40</th>\n",
       "      <td>1991</td>\n",
       "      <td>709275</td>\n",
       "      <td>16.4</td>\n",
       "    </tr>\n",
       "    <tr>\n",
       "      <th>41</th>\n",
       "      <td>1992</td>\n",
       "      <td>730678</td>\n",
       "      <td>16.7</td>\n",
       "    </tr>\n",
       "    <tr>\n",
       "      <th>42</th>\n",
       "      <td>1993</td>\n",
       "      <td>715826</td>\n",
       "      <td>16.0</td>\n",
       "    </tr>\n",
       "    <tr>\n",
       "      <th>43</th>\n",
       "      <td>1994</td>\n",
       "      <td>721185</td>\n",
       "      <td>16.0</td>\n",
       "    </tr>\n",
       "    <tr>\n",
       "      <th>44</th>\n",
       "      <td>1995</td>\n",
       "      <td>715020</td>\n",
       "      <td>15.7</td>\n",
       "    </tr>\n",
       "    <tr>\n",
       "      <th>45</th>\n",
       "      <td>1996</td>\n",
       "      <td>691226</td>\n",
       "      <td>15.0</td>\n",
       "    </tr>\n",
       "    <tr>\n",
       "      <th>46</th>\n",
       "      <td>1997</td>\n",
       "      <td>668344</td>\n",
       "      <td>14.4</td>\n",
       "    </tr>\n",
       "    <tr>\n",
       "      <th>47</th>\n",
       "      <td>1998</td>\n",
       "      <td>634790</td>\n",
       "      <td>13.6</td>\n",
       "    </tr>\n",
       "    <tr>\n",
       "      <th>48</th>\n",
       "      <td>1999</td>\n",
       "      <td>614233</td>\n",
       "      <td>13.0</td>\n",
       "    </tr>\n",
       "    <tr>\n",
       "      <th>49</th>\n",
       "      <td>2000</td>\n",
       "      <td>634501</td>\n",
       "      <td>13.3</td>\n",
       "    </tr>\n",
       "  </tbody>\n",
       "</table>\n",
       "</div>"
      ],
      "text/plain": [
       "      연도    출생아수  천명당출생률\n",
       "39  1990  649738    15.2\n",
       "40  1991  709275    16.4\n",
       "41  1992  730678    16.7\n",
       "42  1993  715826    16.0\n",
       "43  1994  721185    16.0\n",
       "44  1995  715020    15.7\n",
       "45  1996  691226    15.0\n",
       "46  1997  668344    14.4\n",
       "47  1998  634790    13.6\n",
       "48  1999  614233    13.0\n",
       "49  2000  634501    13.3"
      ]
     },
     "execution_count": 15,
     "metadata": {},
     "output_type": "execute_result"
    }
   ],
   "source": [
    "birthData.query('1990<= 연도 <= 2000')"
   ]
  },
  {
   "cell_type": "code",
   "execution_count": null,
   "id": "5e192c00",
   "metadata": {},
   "outputs": [
    {
     "data": {
      "text/html": [
       "<div>\n",
       "<style scoped>\n",
       "    .dataframe tbody tr th:only-of-type {\n",
       "        vertical-align: middle;\n",
       "    }\n",
       "\n",
       "    .dataframe tbody tr th {\n",
       "        vertical-align: top;\n",
       "    }\n",
       "\n",
       "    .dataframe thead th {\n",
       "        text-align: right;\n",
       "    }\n",
       "</style>\n",
       "<table border=\"1\" class=\"dataframe\">\n",
       "  <thead>\n",
       "    <tr style=\"text-align: right;\">\n",
       "      <th></th>\n",
       "      <th>연도</th>\n",
       "      <th>출생아수</th>\n",
       "      <th>천명당출생률</th>\n",
       "    </tr>\n",
       "  </thead>\n",
       "  <tbody>\n",
       "    <tr>\n",
       "      <th>49</th>\n",
       "      <td>2000</td>\n",
       "      <td>634501</td>\n",
       "      <td>13.3</td>\n",
       "    </tr>\n",
       "    <tr>\n",
       "      <th>50</th>\n",
       "      <td>2001</td>\n",
       "      <td>554895</td>\n",
       "      <td>11.6</td>\n",
       "    </tr>\n",
       "  </tbody>\n",
       "</table>\n",
       "</div>"
      ],
      "text/plain": [
       "      연도    출생아수  천명당출생률\n",
       "49  2000  634501    13.3\n",
       "50  2001  554895    11.6"
      ]
     },
     "execution_count": 16,
     "metadata": {},
     "output_type": "execute_result"
    }
   ],
   "source": [
    "birthData.query('연도 >= 2000 and 출생아수 >= 500000')"
   ]
  },
  {
   "cell_type": "code",
   "execution_count": null,
   "id": "6b29e861",
   "metadata": {},
   "outputs": [
    {
     "data": {
      "image/png": "[encoded data removed]",
      "text/plain": [
       "<Figure size 432x288 with 1 Axes>"
      ]
     },
     "metadata": {
      "needs_background": "light"
     },
     "output_type": "display_data"
    }
   ],
   "source": [
    "import matplotlib.pyplot as plt\n",
    "\n",
    "temp1994 = [39.6, 37.9, 37.9, 34.9, 33.9, 35.3, 35.9, 35.3, 32.5, 36.8]\n",
    "temp2018 = [29.3, 33.9, 32.5, 32.4, 35.6, 35.9, 33.6, 33.8, 37.0, 29.3]\n",
    "\n",
    "plt.plot(temp1994, marker='o', label='1994')\n",
    "plt.plot(temp2018, marker='o', label='2018')\n",
    "plt.ylim(20, 45) #ylim은 y축 범위 변경 xlim은 x축 범위 변경\n",
    "plt.xlim(0,9)\n",
    "\n",
    "plt.legend()\n",
    "\n",
    "plt.title('temperature') #영어는 ok 한글은 오류뜸\n",
    "plt.show()"
   ]
  },
  {
   "cell_type": "code",
   "execution_count": null,
   "id": "391c7a29",
   "metadata": {},
   "outputs": [
    {
     "data": {
      "image/png": "[encoded data removed]",
      "text/plain": [
       "<Figure size 432x288 with 1 Axes>"
      ]
     },
     "metadata": {
      "needs_background": "light"
     },
     "output_type": "display_data"
    }
   ],
   "source": [
    "import matplotlib.pyplot as plt\n",
    "\n",
    "temp1994 = [39.6, 37.9, 37.9, 34.9, 33.9, 35.3, 35.9, 35.3, 32.5, 36.8]\n",
    "temp2018 = [29.3, 33.9, 32.5, 32.4, 35.6, 35.9, 33.6, 33.8, 37.0, 29.3]\n",
    "\n",
    "plt.plot(temp1994, marker='o', label='1994')\n",
    "plt.plot(temp2018, marker='o', label='2018')\n",
    "plt.ylim(20, 45) #ylim은 y축 범위 변경 xlim은 x축 범위 변경\n",
    "plt.xlim(0,9)\n",
    "\n",
    "plt.legend()\n",
    "\n",
    "plt.rc('font', family='Malgun Gothic')#한글을 쓰는 코드 처음에 글씨 깨지는데 다시 하면 됨\n",
    "plt.title('최고 기온 비교')\n",
    "plt.grid() #격자 표시  True 안 써도 true 로 이해\n",
    "\n",
    "plt.show()"
   ]
  },
  {
   "cell_type": "code",
   "execution_count": null,
   "id": "56fc8f49",
   "metadata": {},
   "outputs": [
    {
     "data": {
      "image/png": "[encoded data removed]",
      "text/plain": [
       "<Figure size 432x288 with 1 Axes>"
      ]
     },
     "metadata": {
      "needs_background": "light"
     },
     "output_type": "display_data"
    }
   ],
   "source": [
    "import matplotlib.pyplot as plt\n",
    "\n",
    "import numpy as np #고성능 수치 계산 arange를 불러오는데 필요한 도구인가?\n",
    "\n",
    "temp1994 = [39.6, 37.9, 37.9, 34.9, 33.9, 35.3, 35.9, 35.3, 32.5, 36.8]\n",
    "temp2018 = [29.3, 33.9, 32.5, 32.4, 35.6, 35.9, 33.6, 33.8, 37.0, 29.3]\n",
    "\n",
    "plt.plot(temp1994, marker='o', label='1994년 기온')\n",
    "plt.plot(temp2018, marker='o', label='2018년 기온')\n",
    "plt.ylim(20, 45) #ylim은 y축 범위 변경 xlim은 x축 범위 변경\n",
    "plt.xlim(0,9)\n",
    "\n",
    "plt.legend()\n",
    "\n",
    "plt.rc('font', family='Malgun Gothic')#한글을 쓰는 코드 처음에 글씨 깨지는데 다시 하면 됨\n",
    "plt.title('최고 기온 비교')\n",
    "plt.grid() #격자 표시  True 안 써도 true 로 이해\n",
    "\n",
    "plt.xlabel('날짜 변화')\n",
    "plt.ylabel('최고 기온')\n",
    "\n",
    "plt.xticks(np.arange(0, 10, 1), ('1일', '2일', '3일', '4일', '5일', '6일', '7일', '8일', '9일', '10일'))\n",
    "# 첫번째 숫자가 시작, 10-1 까지 하고 그 간격은 1이다 뒤에는 각 구역이름 근데 (10)이 아니면 안되나?\n",
    "#개수가 안 맞으면 에러\n",
    "\n",
    "plt.show()"
   ]
  },
  {
   "cell_type": "code",
   "execution_count": null,
   "id": "b1ee7efa",
   "metadata": {},
   "outputs": [],
   "source": [
    "import numpy as np\n",
    "\n",
    "DAta = np.random.normal(170, 10, 30)"
   ]
  },
  {
   "cell_type": "code",
   "execution_count": null,
   "id": "a6e25c6a",
   "metadata": {},
   "outputs": [
    {
     "data": {
      "text/plain": [
       "array([181.14213668, 171.10866103, 184.1848672 , 167.88531808,\n",
       "       177.83612129, 161.53472816, 193.71122405, 169.76709522,\n",
       "       154.32055107, 172.97268577, 177.42223004, 196.34575927,\n",
       "       156.63215558, 164.28636727, 177.30526315, 170.47210001,\n",
       "       176.74653646, 185.87808013, 158.64643623, 175.0500099 ,\n",
       "       171.95861193, 187.63854527, 187.48252493, 176.89782098,\n",
       "       174.32851941, 169.97834291, 169.92241035, 172.04922053,\n",
       "       157.91566525, 171.16583207])"
      ]
     },
     "execution_count": 25,
     "metadata": {},
     "output_type": "execute_result"
    }
   ],
   "source": [
    "DAta"
   ]
  },
  {
   "cell_type": "code",
   "execution_count": null,
   "id": "34f8b042",
   "metadata": {},
   "outputs": [
    {
     "data": {
      "text/plain": [
       "5212.585820209797"
      ]
     },
     "execution_count": 26,
     "metadata": {},
     "output_type": "execute_result"
    }
   ],
   "source": [
    "np.sum(DAta)"
   ]
  },
  {
   "cell_type": "code",
   "execution_count": null,
   "id": "41dbb7e2",
   "metadata": {},
   "outputs": [
    {
     "data": {
      "text/plain": [
       "173.7528606736599"
      ]
     },
     "execution_count": 27,
     "metadata": {},
     "output_type": "execute_result"
    }
   ],
   "source": [
    "np.mean(DAta)"
   ]
  },
  {
   "cell_type": "code",
   "execution_count": null,
   "id": "34516f3f",
   "metadata": {},
   "outputs": [
    {
     "data": {
      "text/plain": [
       "105.44091148910516"
      ]
     },
     "execution_count": 28,
     "metadata": {},
     "output_type": "execute_result"
    }
   ],
   "source": [
    "np.var(DAta)"
   ]
  }
 ],
 "metadata": {
  "kernelspec": {
   "display_name": "Python 3.10.6 64-bit",
   "language": "python",
   "name": "python3"
  },
  "language_info": {
   "codemirror_mode": {
    "name": "ipython",
    "version": 3
   },
   "file_extension": ".py",
   "mimetype": "text/x-python",
   "name": "python",
   "nbconvert_exporter": "python",
   "pygments_lexer": "ipython3",
   "version": "3.10.6"
  },
  "vscode": {
   "interpreter": {
    "hash": "df95319d8ce4e1d89f5365ae10992bc1f65da593082b1d264e8f529830ec2f02"
   }
  }
 },
 "nbformat": 4,
 "nbformat_minor": 5
}
