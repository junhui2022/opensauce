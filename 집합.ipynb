{
 "cells": [
  {
   "cell_type": "code",
   "execution_count": 4,
   "metadata": {},
   "outputs": [
    {
     "data": {
      "text/plain": [
       "{1, 2, 3, 5}"
      ]
     },
     "execution_count": 4,
     "metadata": {},
     "output_type": "execute_result"
    }
   ],
   "source": [
    "#집합\n",
    "set_A={1,2,3}\n",
    "set_B=set(['a', 'b', 'c', 'd'])\n",
    "set_P= { n for n in range(10) if n%2==1} #  { n │ 0 < n < 10 and n is odd }\n",
    "A=[1,2,3,1,2,5]\n",
    "set(A) # 중복 제거"
   ]
  },
  {
   "cell_type": "code",
   "execution_count": 6,
   "metadata": {},
   "outputs": [],
   "source": [
    "#집합의 원소로는 리스트, 튜플 등이 올 수 없다."
   ]
  },
  {
   "cell_type": "code",
   "execution_count": 7,
   "metadata": {},
   "outputs": [
    {
     "data": {
      "text/plain": [
       "{1, 2, 3, 'a', 'b', 'c', 'd'}"
      ]
     },
     "execution_count": 7,
     "metadata": {},
     "output_type": "execute_result"
    }
   ],
   "source": [
    "#집합의 연산 기호\n",
    "#합집합, 교집합, 차집합, 대칭차집합\n",
    "\n",
    "#합집합\n",
    "set_A | set_B\n",
    "set_A.union(set_B)\n",
    "\n",
    "#교집합\n",
    "set_A & set_B\n",
    "set_A.intersection(set_B)\n",
    "\n",
    "#차집합\n",
    "set_A - set_B\n",
    "set_A.difference(set_B)\n",
    "\n",
    "#대칭차집합\n",
    "set_A ^ set_B\n",
    "set_A.symmetric_difference(set_B)\n"
   ]
  },
  {
   "cell_type": "code",
   "execution_count": 8,
   "metadata": {},
   "outputs": [
    {
     "data": {
      "text/plain": [
       "3"
      ]
     },
     "execution_count": 8,
     "metadata": {},
     "output_type": "execute_result"
    }
   ],
   "source": [
    "#집합의 길이\n",
    "len(set_A)\n"
   ]
  },
  {
   "cell_type": "code",
   "execution_count": 9,
   "metadata": {},
   "outputs": [
    {
     "ename": "FileNotFoundError",
     "evalue": "[Errno 2] No such file or directory: 'year4.txt'",
     "output_type": "error",
     "traceback": [
      "\u001b[1;31m---------------------------------------------------------------------------\u001b[0m",
      "\u001b[1;31mFileNotFoundError\u001b[0m                         Traceback (most recent call last)",
      "Cell \u001b[1;32mIn [9], line 8\u001b[0m\n\u001b[0;32m      4\u001b[0m \u001b[39mdef\u001b[39;00m \u001b[39msetOfNames\u001b[39m(fileName):\n\u001b[0;32m      5\u001b[0m     \u001b[39mreturn\u001b[39;00m { line\u001b[39m.\u001b[39mstrip()\n\u001b[0;32m      6\u001b[0m         \u001b[39mfor\u001b[39;00m line \u001b[39min\u001b[39;00m \u001b[39mopen\u001b[39m(fileName) }\n\u001b[1;32m----> 8\u001b[0m year4 \u001b[39m=\u001b[39m setOfNames(\u001b[39m\"\u001b[39;49m\u001b[39myear4.txt\u001b[39;49m\u001b[39m\"\u001b[39;49m)\n\u001b[0;32m      9\u001b[0m cs \u001b[39m=\u001b[39m setOfNames(\u001b[39m\"\u001b[39m\u001b[39mcs.txt\u001b[39m\u001b[39m\"\u001b[39m)\n\u001b[0;32m     10\u001b[0m ee \u001b[39m=\u001b[39m setOfNames(\u001b[39m\"\u001b[39m\u001b[39mee.txt\u001b[39m\u001b[39m\"\u001b[39m)\n",
      "Cell \u001b[1;32mIn [9], line 6\u001b[0m, in \u001b[0;36msetOfNames\u001b[1;34m(fileName)\u001b[0m\n\u001b[0;32m      4\u001b[0m \u001b[39mdef\u001b[39;00m \u001b[39msetOfNames\u001b[39m(fileName):\n\u001b[0;32m      5\u001b[0m     \u001b[39mreturn\u001b[39;00m { line\u001b[39m.\u001b[39mstrip()\n\u001b[1;32m----> 6\u001b[0m         \u001b[39mfor\u001b[39;00m line \u001b[39min\u001b[39;00m \u001b[39mopen\u001b[39;49m(fileName) }\n",
      "\u001b[1;31mFileNotFoundError\u001b[0m: [Errno 2] No such file or directory: 'year4.txt'"
     ]
    }
   ],
   "source": [
    "#집합 관련 문제\n",
    "#### 어떤 회사가 대학교에 학생들 채용을 위한 면접 대상자로 전기전자 또는 전산과 4학년 중 학점이 B 이상인 학생을 찾는다고 한다. 전산과 학생 명단 파일(\"cs\"), 전기전자과학생 명단파일(\"ee\"), 4학년학생 명단파일(\"year4\"), B학점이상 학생 명단 파일(\"goodGrades) 들이 주어졌을 때,  면접 대상자를 출력하는 파이썬 프로그래밍하시오.\n",
    "\n",
    "def setOfNames(fileName):\n",
    "    return { line.strip()\n",
    "        for line in open(fileName) }\n",
    "\n",
    "year4 = setOfNames(\"year4.txt\")\n",
    "cs = setOfNames(\"cs.txt\")\n",
    "ee = setOfNames(\"ee.txt\")\n",
    "goodGrades = setOfNames(\"goodGrades.txt\")\n",
    "candidates = year4 & (cs | ee) & goodGrades\n",
    "for student in candidates:\n",
    "    print(student)"
   ]
  },
  {
   "cell_type": "code",
   "execution_count": 10,
   "metadata": {},
   "outputs": [
    {
     "name": "stdout",
     "output_type": "stream",
     "text": [
      "{'banana', 'cherry', 'apple', 'orange'}\n",
      "{'banana', 'grapes', 'cherry', 'apple', 'mango', 'orange'}\n",
      "{'grapes', 'cherry', 'apple', 'mango', 'orange'}\n",
      "set()\n"
     ]
    }
   ],
   "source": [
    "thisset = {\"apple\", \"banana\", \"cherry\"}\n",
    "\n",
    "thisset.add(\"orange\")  #원소 추가\n",
    "print(thisset)\n",
    "\n",
    "thisset.update([\"orange\", \"mango\", \"grapes\"]) #여러 원소 추가\n",
    "print(thisset)\n",
    "\n",
    "thisset.remove(\"banana\") #원소 제거\n",
    "print(thisset)\n",
    "\n",
    "thisset.clear() #모든 원소 제거\n",
    "print(thisset)"
   ]
  },
  {
   "cell_type": "code",
   "execution_count": 12,
   "metadata": {},
   "outputs": [
    {
     "name": "stdout",
     "output_type": "stream",
     "text": [
      "i=1,j=0,items[0]=a\n",
      "i=2,j=1,items[1]=b\n",
      "i=3,j=0,items[0]=a\n",
      "i=3,j=1,items[1]=b\n",
      "i=4,j=2,items[2]=c\n",
      "i=5,j=0,items[0]=a\n",
      "i=5,j=2,items[2]=c\n",
      "i=6,j=1,items[1]=b\n",
      "i=6,j=2,items[2]=c\n",
      "i=7,j=0,items[0]=a\n",
      "i=7,j=1,items[1]=b\n",
      "i=7,j=2,items[2]=c\n",
      "[[], ['a'], ['b'], ['a', 'b'], ['c'], ['a', 'c'], ['b', 'c'], ['a', 'b', 'c']]\n"
     ]
    },
    {
     "ename": "TypeError",
     "evalue": "unhashable type: 'list'",
     "output_type": "error",
     "traceback": [
      "\u001b[1;31m---------------------------------------------------------------------------\u001b[0m",
      "\u001b[1;31mTypeError\u001b[0m                                 Traceback (most recent call last)",
      "Cell \u001b[1;32mIn [12], line 17\u001b[0m\n\u001b[0;32m     15\u001b[0m B\u001b[39m=\u001b[39m\u001b[39mlist\u001b[39m(power_set(A))\n\u001b[0;32m     16\u001b[0m \u001b[39mprint\u001b[39m(B)\n\u001b[1;32m---> 17\u001b[0m \u001b[39mprint\u001b[39m(\u001b[39mset\u001b[39;49m(B))\n",
      "\u001b[1;31mTypeError\u001b[0m: unhashable type: 'list'"
     ]
    }
   ],
   "source": [
    "#멱집합\n",
    "def power_set(items):\n",
    "    N = len(items)\n",
    "    # enumerate the 2 ** N possible combinations\n",
    "    for i in range(2 ** N):\n",
    "        combo = []\n",
    "        for j in range(N):\n",
    "            # test bit jth of integer i\n",
    "            if (i >> j) % 2 == 1:\n",
    "                combo.append(items[j])\n",
    "                print(\"i={},j={},items[{}]={}\".format(i,j, j, items[j]))\n",
    "        yield combo\n",
    "\n",
    "A=['a','b','c']\n",
    "B=list(power_set(A))\n",
    "print(B)\n",
    "print(set(B))"
   ]
  },
  {
   "cell_type": "code",
   "execution_count": null,
   "metadata": {},
   "outputs": [],
   "source": []
  },
  {
   "cell_type": "code",
   "execution_count": null,
   "metadata": {},
   "outputs": [],
   "source": []
  }
 ],
 "metadata": {
  "kernelspec": {
   "display_name": "Python 3.10.6 64-bit",
   "language": "python",
   "name": "python3"
  },
  "language_info": {
   "codemirror_mode": {
    "name": "ipython",
    "version": 3
   },
   "file_extension": ".py",
   "mimetype": "text/x-python",
   "name": "python",
   "nbconvert_exporter": "python",
   "pygments_lexer": "ipython3",
   "version": "3.10.6"
  },
  "orig_nbformat": 4,
  "vscode": {
   "interpreter": {
    "hash": "df95319d8ce4e1d89f5365ae10992bc1f65da593082b1d264e8f529830ec2f02"
   }
  }
 },
 "nbformat": 4,
 "nbformat_minor": 2
}
